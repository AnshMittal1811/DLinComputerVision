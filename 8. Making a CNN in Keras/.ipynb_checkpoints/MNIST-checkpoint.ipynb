{
 "cells": [
  {
   "cell_type": "code",
   "execution_count": 1,
   "metadata": {},
   "outputs": [
    {
     "name": "stderr",
     "output_type": "stream",
     "text": [
      "Using TensorFlow backend.\n"
     ]
    }
   ],
   "source": [
    "# Plot ad hoc mnist instances\n",
    "from keras.datasets import mnist\n",
    "import matplotlib.pyplot as plt\n",
    "\n",
    "# load (downloaded if needed) the MNIST dataset\n",
    "(X_train, y_train), (X_test, y_test) = mnist.load_data()\n",
    "\n"
   ]
  },
  {
   "cell_type": "code",
   "execution_count": 6,
   "metadata": {},
   "outputs": [
    {
     "data": {
      "text/plain": [
       "(28, 28)"
      ]
     },
     "execution_count": 6,
     "metadata": {},
     "output_type": "execute_result"
    }
   ],
   "source": [
    "X_train[0].shape\n",
    "\n",
    "cv2.imshow('Our Live Sketcher', frame)\n",
    "if cv2.waitKey(1) == 13: \n",
    "        \n",
    "# Release camera and close windows\n",
    "cap.release()\n",
    "cv2.destroyAllWindows()     "
   ]
  },
  {
   "cell_type": "code",
   "execution_count": 2,
   "metadata": {},
   "outputs": [
    {
     "data": {
      "image/png": "[encoded data removed]",
      "text/plain": [
       "<Figure size 432x288 with 4 Axes>"
      ]
     },
     "metadata": {
      "needs_background": "light"
     },
     "output_type": "display_data"
    }
   ],
   "source": [
    "# plot 4 images as gray scale\n",
    "plt.subplot(221)\n",
    "plt.imshow(X_train[0], cmap=plt.get_cmap('gray'))\n",
    "plt.subplot(222)\n",
    "plt.imshow(X_train[1], cmap=plt.get_cmap('gray'))\n",
    "plt.subplot(223)\n",
    "plt.imshow(X_train[2], cmap=plt.get_cmap('gray'))\n",
    "plt.subplot(224)\n",
    "plt.imshow(X_train[3], cmap=plt.get_cmap('gray'))\n",
    "# show the plot\n",
    "plt.show()"
   ]
  },
  {
   "cell_type": "code",
   "execution_count": 3,
   "metadata": {},
   "outputs": [
    {
     "name": "stdout",
     "output_type": "stream",
     "text": [
      "Train on 60000 samples, validate on 10000 samples\n",
      "Epoch 1/10\n",
      " - 7s - loss: 0.2782 - acc: 0.9209 - val_loss: 0.1411 - val_acc: 0.9572\n",
      "Epoch 2/10\n",
      " - 7s - loss: 0.1118 - acc: 0.9676 - val_loss: 0.0921 - val_acc: 0.9706\n",
      "Epoch 3/10\n",
      " - 7s - loss: 0.0719 - acc: 0.9797 - val_loss: 0.0785 - val_acc: 0.9772\n",
      "Epoch 4/10\n",
      " - 7s - loss: 0.0503 - acc: 0.9856 - val_loss: 0.0746 - val_acc: 0.9766\n",
      "Epoch 5/10\n",
      " - 6s - loss: 0.0372 - acc: 0.9894 - val_loss: 0.0673 - val_acc: 0.9788\n",
      "Epoch 6/10\n",
      " - 6s - loss: 0.0268 - acc: 0.9928 - val_loss: 0.0625 - val_acc: 0.9806\n",
      "Epoch 7/10\n",
      " - 6s - loss: 0.0208 - acc: 0.9948 - val_loss: 0.0615 - val_acc: 0.9811\n",
      "Epoch 8/10\n",
      " - 6s - loss: 0.0139 - acc: 0.9969 - val_loss: 0.0629 - val_acc: 0.9799\n",
      "Epoch 9/10\n",
      " - 6s - loss: 0.0108 - acc: 0.9978 - val_loss: 0.0588 - val_acc: 0.9803\n",
      "Epoch 10/10\n",
      " - 6s - loss: 0.0082 - acc: 0.9985 - val_loss: 0.0589 - val_acc: 0.9810\n",
      "Baseline Error: 1.90%\n"
     ]
    }
   ],
   "source": [
    "import numpy\n",
    "from keras.datasets import mnist\n",
    "from keras.models import Sequential\n",
    "from keras.layers import Dense\n",
    "from keras.layers import Dropout\n",
    "from keras.utils import np_utils\n",
    "\n",
    "seed = 7\n",
    "numpy.random.seed(seed)\n",
    "\n",
    "# load data\n",
    "(X_train, y_train), (X_test, y_test) = mnist.load_data()\n",
    "\n",
    "# flatten 28*28 images to a 784 vector for each image\n",
    "num_pixels = X_train.shape[1] * X_train.shape[2]\n",
    "X_train = X_train.reshape(X_train.shape[0], num_pixels).astype('float32')\n",
    "X_test = X_test.reshape(X_test.shape[0], num_pixels).astype('float32')\n",
    "\n",
    "# normalize inputs from 0-255 to 0-1\n",
    "X_train = X_train / 255\n",
    "X_test = X_test / 255\n",
    "\n",
    "# one hot encode outputs\n",
    "y_train = np_utils.to_categorical(y_train)\n",
    "y_test = np_utils.to_categorical(y_test)\n",
    "num_classes = y_test.shape[1]\n",
    "\n",
    "# define baseline model\n",
    "def baseline_model():\n",
    "    # create model\n",
    "    model = Sequential()\n",
    "    model.add(Dense(num_pixels, input_dim=num_pixels, kernel_initializer='normal', activation='relu'))\n",
    "    model.add(Dense(num_classes, kernel_initializer='normal', activation='softmax'))\n",
    "    # Compile model\n",
    "    model.compile(loss='categorical_crossentropy', optimizer='adam', metrics=['accuracy'])\n",
    "    return model\n",
    "\n",
    "# build the model\n",
    "model = baseline_model()\n",
    "# Fit the model\n",
    "model.fit(X_train, y_train, validation_data=(X_test, y_test), epochs=10, batch_size=200, verbose=2)\n",
    "\n",
    "# Final evaluation of the model\n",
    "scores = model.evaluate(X_test, y_test, verbose=0)\n",
    "print(\"Baseline Error: %.2f%%\" % (100-scores[1]*100))"
   ]
  },
  {
   "cell_type": "code",
   "execution_count": null,
   "metadata": {},
   "outputs": [],
   "source": []
  },
  {
   "cell_type": "code",
   "execution_count": 2,
   "metadata": {},
   "outputs": [
    {
     "name": "stdout",
     "output_type": "stream",
     "text": [
      "Train on 60000 samples, validate on 10000 samples\n",
      "Epoch 1/10\n",
      " - 115s - loss: 0.2227 - acc: 0.9366 - val_loss: 0.0783 - val_acc: 0.9746\n",
      "Epoch 2/10\n",
      " - 125s - loss: 0.0712 - acc: 0.9786 - val_loss: 0.0457 - val_acc: 0.9842\n",
      "Epoch 3/10\n",
      " - 125s - loss: 0.0512 - acc: 0.9842 - val_loss: 0.0452 - val_acc: 0.9849\n",
      "Epoch 4/10\n",
      " - 129s - loss: 0.0390 - acc: 0.9881 - val_loss: 0.0422 - val_acc: 0.9867\n",
      "Epoch 5/10\n",
      " - 138s - loss: 0.0323 - acc: 0.9898 - val_loss: 0.0359 - val_acc: 0.9878\n",
      "Epoch 6/10\n",
      " - 132s - loss: 0.0267 - acc: 0.9913 - val_loss: 0.0332 - val_acc: 0.9887\n",
      "Epoch 7/10\n",
      " - 125s - loss: 0.0216 - acc: 0.9933 - val_loss: 0.0354 - val_acc: 0.9885\n",
      "Epoch 8/10\n",
      " - 114s - loss: 0.0187 - acc: 0.9941 - val_loss: 0.0334 - val_acc: 0.9880\n",
      "Epoch 9/10\n",
      " - 114s - loss: 0.0156 - acc: 0.9947 - val_loss: 0.0321 - val_acc: 0.9893\n",
      "Epoch 10/10\n",
      " - 135s - loss: 0.0141 - acc: 0.9958 - val_loss: 0.0328 - val_acc: 0.9896\n",
      "CNN Error: 1.04%\n"
     ]
    }
   ],
   "source": [
    "import numpy\n",
    "from keras.datasets import mnist\n",
    "from keras.models import Sequential\n",
    "from keras.layers import Dense\n",
    "from keras.layers import Dropout\n",
    "from keras.layers import Flatten\n",
    "from keras.layers.convolutional import Conv2D\n",
    "from keras.layers.convolutional import MaxPooling2D\n",
    "from keras.utils import np_utils\n",
    "from keras import backend as K\n",
    "K.set_image_dim_ordering('th')\n",
    "\n",
    "# fix random seed for reproducibility\n",
    "seed = 7\n",
    "numpy.random.seed(seed)\n",
    "\n",
    "# load data\n",
    "(X_train, y_train), (X_test, y_test) = mnist.load_data()\n",
    "# reshape to be [samples][pixels][width][height]\n",
    "X_train = X_train.reshape(X_train.shape[0], 1, 28, 28).astype('float32')\n",
    "X_test = X_test.reshape(X_test.shape[0], 1, 28, 28).astype('float32')\n",
    "\n",
    "# normalize inputs from 0-255 to 0-1\n",
    "X_train = X_train / 255\n",
    "X_test = X_test / 255\n",
    "# one hot encode outputs\n",
    "y_train = np_utils.to_categorical(y_train)\n",
    "y_test = np_utils.to_categorical(y_test)\n",
    "num_classes = y_test.shape[1]\n",
    "\n",
    "def baseline_model():\n",
    "    # create model\n",
    "    model = Sequential()\n",
    "    model.add(Conv2D(32, (5, 5), input_shape=(1, 28, 28), activation='relu'))\n",
    "    model.add(MaxPooling2D(pool_size=(2, 2)))\n",
    "    model.add(Dropout(0.2))\n",
    "    model.add(Flatten())\n",
    "    model.add(Dense(128, activation='relu'))\n",
    "    model.add(Dense(num_classes, activation='softmax'))\n",
    "    # Compile model\n",
    "    model.compile(loss='categorical_crossentropy', optimizer='adam', metrics=['accuracy'])\n",
    "    return model\n",
    "\n",
    "# build the model\n",
    "model = baseline_model()\n",
    "\n",
    "# Fit the model\n",
    "model.fit(X_train, y_train, validation_data=(X_test, y_test), epochs=10, batch_size=200, verbose=2)\n",
    "\n",
    "# Final evaluation of the model\n",
    "scores = model.evaluate(X_test, y_test, verbose=0)\n",
    "print(\"CNN Error: %.2f%%\" % (100-scores[1]*100))"
   ]
  },
  {
   "cell_type": "code",
   "execution_count": null,
   "metadata": {},
   "outputs": [],
   "source": []
  },
  {
   "cell_type": "code",
   "execution_count": 5,
   "metadata": {},
   "outputs": [
    {
     "name": "stdout",
     "output_type": "stream",
     "text": [
      "Train on 60000 samples, validate on 10000 samples\n",
      "Epoch 1/10\n",
      "60000/60000 [==============================] - 117s 2ms/step - loss: 0.3881 - acc: 0.8819 - val_loss: 0.0891 - val_acc: 0.9721\n",
      "Epoch 2/10\n",
      "60000/60000 [==============================] - 122s 2ms/step - loss: 0.0998 - acc: 0.9697 - val_loss: 0.0548 - val_acc: 0.9828\n",
      "Epoch 3/10\n",
      "60000/60000 [==============================] - 111s 2ms/step - loss: 0.0731 - acc: 0.9778 - val_loss: 0.0400 - val_acc: 0.9872\n",
      "Epoch 4/10\n",
      "60000/60000 [==============================] - 112s 2ms/step - loss: 0.0598 - acc: 0.9817 - val_loss: 0.0368 - val_acc: 0.9881\n",
      "Epoch 5/10\n",
      "60000/60000 [==============================] - 118s 2ms/step - loss: 0.0510 - acc: 0.9841 - val_loss: 0.0346 - val_acc: 0.9887\n",
      "Epoch 6/10\n",
      "60000/60000 [==============================] - 113s 2ms/step - loss: 0.0440 - acc: 0.9861 - val_loss: 0.0294 - val_acc: 0.9904\n",
      "Epoch 7/10\n",
      "60000/60000 [==============================] - 112s 2ms/step - loss: 0.0394 - acc: 0.9880 - val_loss: 0.0300 - val_acc: 0.9903\n",
      "Epoch 8/10\n",
      "60000/60000 [==============================] - 111s 2ms/step - loss: 0.0348 - acc: 0.9889 - val_loss: 0.0280 - val_acc: 0.9897\n",
      "Epoch 9/10\n",
      "60000/60000 [==============================] - 114s 2ms/step - loss: 0.0323 - acc: 0.9897 - val_loss: 0.0245 - val_acc: 0.9926\n",
      "Epoch 10/10\n",
      "60000/60000 [==============================] - 117s 2ms/step - loss: 0.0305 - acc: 0.9903 - val_loss: 0.0275 - val_acc: 0.9920\n",
      "Large CNN Error: 0.80%\n"
     ]
    }
   ],
   "source": [
    "import numpy\n",
    "from keras.datasets import mnist\n",
    "from keras.models import Sequential\n",
    "from keras.layers import Dense\n",
    "from keras.layers import Dropout\n",
    "from keras.layers import Flatten\n",
    "from keras.layers.convolutional import Conv2D\n",
    "from keras.layers.convolutional import MaxPooling2D\n",
    "from keras.utils import np_utils\n",
    "from keras import backend as K\n",
    "K.set_image_dim_ordering('th')\n",
    "\n",
    "# fix random seed for reproducibility\n",
    "seed = 7\n",
    "\n",
    "numpy.random.seed(seed)\n",
    "# load data\n",
    "\n",
    "(X_train, y_train), (X_test, y_test) = mnist.load_data()\n",
    "\n",
    "# reshape to be [samples][pixels][width][height]\n",
    "X_train = X_train.reshape(X_train.shape[0], 1, 28, 28).astype('float32')\n",
    "X_test = X_test.reshape(X_test.shape[0], 1, 28, 28).astype('float32')\n",
    "\n",
    "# normalize inputs from 0-255 to 0-1\n",
    "X_train = X_train / 255\n",
    "X_test = X_test / 255\n",
    "\n",
    "# one hot encode outputs\n",
    "y_train = np_utils.to_categorical(y_train)\n",
    "y_test = np_utils.to_categorical(y_test)\n",
    "num_classes = y_test.shape[1]\n",
    "\n",
    "# define the larger model\n",
    "def larger_model():\n",
    "    # create model\n",
    "    model = Sequential()\n",
    "    model.add(Conv2D(30, (5, 5), input_shape=(1, 28, 28), activation='relu'))\n",
    "    model.add(MaxPooling2D(pool_size=(2, 2)))\n",
    "    model.add(Conv2D(15, (3, 3), activation='relu'))\n",
    "    model.add(MaxPooling2D(pool_size=(2, 2)))\n",
    "    model.add(Dropout(0.2))\n",
    "    model.add(Flatten())\n",
    "    model.add(Dense(128, activation='relu'))\n",
    "    model.add(Dense(50, activation='relu'))\n",
    "    model.add(Dense(num_classes, activation='softmax'))\n",
    "    \n",
    "    # Compile model\n",
    "    model.compile(loss='categorical_crossentropy', optimizer='adam', metrics=['accuracy'])\n",
    "    return model\n",
    "\n",
    "# build the model\n",
    "model = larger_model()\n",
    "\n",
    "# Fit the model\n",
    "model.fit(X_train, y_train, validation_data=(X_test, y_test), epochs=10, batch_size=200)\n",
    "\n",
    "# Final evaluation of the model\n",
    "scores = model.evaluate(X_test, y_test, verbose=0)\n",
    "print(\"Large CNN Error: %.2f%%\" % (100-scores[1]*100))"
   ]
  },
  {
   "cell_type": "code",
   "execution_count": null,
   "metadata": {},
   "outputs": [],
   "source": []
  }
 ],
 "metadata": {
  "kernelspec": {
   "display_name": "Python 3",
   "language": "python",
   "name": "python3"
  },
  "language_info": {
   "codemirror_mode": {
    "name": "ipython",
    "version": 3
   },
   "file_extension": ".py",
   "mimetype": "text/x-python",
   "name": "python",
   "nbconvert_exporter": "python",
   "pygments_lexer": "ipython3",
   "version": "3.6.6"
  }
 },
 "nbformat": 4,
 "nbformat_minor": 2
}
