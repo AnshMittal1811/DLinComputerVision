{
 "cells": [
  {
   "cell_type": "markdown",
   "metadata": {},
   "source": [
    "## Implementing DeepDream in Keras\n",
    "\n",
    "We firstly load the InceptionV3 model which tends to produce some of the best visuals. Feel free to try VGG16, VGG19, Xception and ResNet50.\n",
    "\n",
    "Code obtained and edited from F. Chollet (Created of Keras)\n",
    "- \n",
    "https://github.com/fchollet/deep-learning-with-python-notebooks/blob/master/8.2-deep-dream.ipynb"
   ]
  },
  {
   "cell_type": "code",
   "execution_count": 1,
   "metadata": {},
   "outputs": [
    {
     "name": "stderr",
     "output_type": "stream",
     "text": [
      "Using TensorFlow backend.\n"
     ]
    }
   ],
   "source": [
    "from keras.applications import inception_v3, resnet50\n",
    "from keras import backend as K\n",
    "\n",
    "# This settings disables all training specific operations\n",
    "K.set_learning_phase(0)\n",
    "\n",
    "# Load InceptionV3\n",
    "model = inception_v3.InceptionV3(weights = 'imagenet', include_top = False)\n"
   ]
  },
  {
   "cell_type": "markdown",
   "metadata": {},
   "source": [
    "#### We create a dictionary of coefficients quantifying, how much the layer’s activation contributes to the loss you’ll seek to maximize"
   ]
  },
  {
   "cell_type": "code",
   "execution_count": 2,
   "metadata": {},
   "outputs": [],
   "source": [
    "layer_contributions = {\n",
    "    'mixed2': 0.7,\n",
    "    'mixed3': 2.2,\n",
    "    'mixed4': 1.2,\n",
    "    'mixed5': .2,\n",
    "}"
   ]
  },
  {
   "cell_type": "markdown",
   "metadata": {},
   "source": [
    "#### Define our tensor that contains the maximized Loss (the weighted sum of the L2 norm of the activations of the layer desfined above)"
   ]
  },
  {
   "cell_type": "code",
   "execution_count": 3,
   "metadata": {},
   "outputs": [
    {
     "name": "stdout",
     "output_type": "stream",
     "text": [
      "WARNING:tensorflow:Variable += will be deprecated. Use variable.assign_add if you want assignment to the variable value or 'x = x + y' if you want a new python Tensor object.\n"
     ]
    }
   ],
   "source": [
    "# Map layer names to layer instances\n",
    "layer_dict = dict([(layer.name, layer) for layer in model.layers])\n",
    "\n",
    "# loss defined by adding layer contributions\n",
    "loss = K.variable(0.)\n",
    "\n",
    "for layer_name in layer_contributions:\n",
    "    coeff = layer_contributions[layer_name]\n",
    "    \n",
    "    # activation gets the layer output\n",
    "    activation = layer_dict[layer_name].output\n",
    "    scaling = K.prod(K.cast(K.shape(activation), 'float32'))\n",
    "\n",
    "    # we add the l2 norm\n",
    "    loss += coeff * K.sum(K.square(activation[:, 2: -2, 2: -2, :])) / scaling"
   ]
  },
  {
   "cell_type": "markdown",
   "metadata": {},
   "source": [
    "### Creating the Gradient-Ascent Process"
   ]
  },
  {
   "cell_type": "code",
   "execution_count": 4,
   "metadata": {},
   "outputs": [],
   "source": [
    "# this is the image or 'dream' :) that is stored in this tensor \n",
    "dream = model.input\n",
    "\n",
    "# Obtains the gradients wrt to the loss\n",
    "grads = K.gradients(loss, dream)[0]\n",
    "\n",
    "# Normalizes the gradient \n",
    "grads /= K.maximum(K.mean(K.abs(grads)), 1e-7)\n",
    "\n",
    "# Creates a Keras function to get the value of the loss & gradients wrt to the input\n",
    "outputs = [loss, grads]\n",
    "fetch_loss_and_grads = K.function([dream], outputs)\n",
    "\n",
    "def eval_loss_and_grads(x):\n",
    "    \"\"\"returns the loss and gradient values\"\"\"\n",
    "    outs = fetch_loss_and_grads([x])\n",
    "    loss_value = outs[0]\n",
    "    grad_values = outs[1]\n",
    "    return loss_value, grad_values\n",
    "\n",
    "def gradient_ascent(x, iterations, step, max_loss=None):\n",
    "    \"\"\"Implements gradient access for a specified number of iterations\"\"\"\n",
    "    for i in range(iterations):\n",
    "        loss_value, grad_values = eval_loss_and_grads(x)\n",
    "        if max_loss is not None and loss_value > max_loss:\n",
    "            break\n",
    "        print('...Loss value at', i, ':', loss_value)\n",
    "        x += step * grad_values\n",
    "    return x"
   ]
  },
  {
   "cell_type": "markdown",
   "metadata": {},
   "source": [
    "## Implementing the Deep Dream Algorithm"
   ]
  },
  {
   "cell_type": "code",
   "execution_count": 7,
   "metadata": {},
   "outputs": [
    {
     "name": "stdout",
     "output_type": "stream",
     "text": [
      "Processing image shape (353, 529)\n",
      "...Loss value at 0 : 1.0304297\n",
      "...Loss value at 1 : 1.2510272\n",
      "...Loss value at 2 : 1.6979636\n",
      "...Loss value at 3 : 2.271832\n",
      "...Loss value at 4 : 2.8770106\n",
      "...Loss value at 5 : 3.4737113\n",
      "...Loss value at 6 : 4.0769672\n",
      "...Loss value at 7 : 4.617928\n",
      "...Loss value at 8 : 5.15317\n",
      "...Loss value at 9 : 5.685014\n",
      "...Loss value at 10 : 6.1906824\n",
      "...Loss value at 11 : 6.645993\n",
      "...Loss value at 12 : 7.0928683\n",
      "...Loss value at 13 : 7.5481906\n",
      "...Loss value at 14 : 7.9534693\n",
      "...Loss value at 15 : 8.386046\n",
      "...Loss value at 16 : 8.765054\n",
      "...Loss value at 17 : 9.139767\n",
      "...Loss value at 18 : 9.5182705\n",
      "...Loss value at 19 : 9.86855\n",
      "Processing image shape (494, 740)\n",
      "...Loss value at 0 : 2.864695\n",
      "...Loss value at 1 : 4.0144286\n",
      "...Loss value at 2 : 4.9185443\n",
      "...Loss value at 3 : 5.688157\n",
      "...Loss value at 4 : 6.3830137\n",
      "...Loss value at 5 : 7.0187526\n",
      "...Loss value at 6 : 7.596686\n",
      "...Loss value at 7 : 8.150836\n",
      "...Loss value at 8 : 8.67249\n",
      "...Loss value at 9 : 9.186928\n",
      "...Loss value at 10 : 9.649975\n"
     ]
    },
    {
     "name": "stderr",
     "output_type": "stream",
     "text": [
      "/home/deeplearningcv/anaconda3/envs/cv/lib/python3.6/site-packages/scipy/ndimage/interpolation.py:583: UserWarning: From scipy 0.13.0, the output shape of zoom() is calculated with round() instead of int() - for these inputs the size of the returned array has changed.\n",
      "  \"the returned array has changed.\", UserWarning)\n"
     ]
    },
    {
     "name": "stdout",
     "output_type": "stream",
     "text": [
      "Processing image shape (692, 1037)\n",
      "...Loss value at 0 : 2.9274173\n",
      "...Loss value at 1 : 4.0277452\n",
      "...Loss value at 2 : 4.9098253\n",
      "...Loss value at 3 : 5.6878753\n",
      "...Loss value at 4 : 6.426328\n",
      "...Loss value at 5 : 7.1218004\n",
      "...Loss value at 6 : 7.773466\n",
      "...Loss value at 7 : 8.408107\n",
      "...Loss value at 8 : 9.042133\n",
      "...Loss value at 9 : 9.666492\n",
      "DeepDreaming Complete\n"
     ]
    }
   ],
   "source": [
    "import numpy as np\n",
    "import scipy\n",
    "from keras.preprocessing import image\n",
    "import imageio\n",
    "\n",
    "def resize_img(img, size):\n",
    "    img = np.copy(img)\n",
    "    factors = (1,\n",
    "               float(size[0]) / img.shape[1],\n",
    "               float(size[1]) / img.shape[2], 1)\n",
    "    return scipy.ndimage.zoom(img, factors, order=1)\n",
    "\n",
    "def save_img(img, fname):\n",
    "    pil_img = deprocess_image(np.copy(img))\n",
    "    imageio.imwrite(fname, pil_img)\n",
    "\n",
    "def preprocess_image(image_path):\n",
    "    img = image.load_img(image_path)\n",
    "    img = image.img_to_array(img)\n",
    "    img = np.expand_dims(img, axis=0)\n",
    "    img = inception_v3.preprocess_input(img)\n",
    "    return img\n",
    "\n",
    "def deprocess_image(x):\n",
    "    if K.image_data_format() == 'channels_first':\n",
    "        x = x.reshape((3, x.shape[2], x.shape[3]))\n",
    "        x = x.transpose((1, 2, 0))\n",
    "    else:\n",
    "        x = x.reshape((x.shape[1], x.shape[2], 3))\n",
    "    x /= 2.\n",
    "    x += 0.5\n",
    "    x *= 255.\n",
    "    x = np.clip(x, 0, 255).astype('uint8')\n",
    "    return x\n",
    "\n",
    "step = 0.01 #Step size for gradient ascent\n",
    "num_octave = 3 #number of octaves to be run\n",
    "octave_scale = 1.4 #this is the scale for each ensuing octive will be 1.4 times large than the previous\n",
    "iterations = 20 #number of gradient ascent operations we execute \n",
    "max_loss = 10.0 #our early stoping metric, if loss is > max_loss we break the gradient ascent loop\n",
    "\n",
    "base_image_path = './images/aurora_norway.jpg'\n",
    "\n",
    "# Load our image \n",
    "img = preprocess_image(base_image_path)\n",
    "\n",
    "# Initialize a list of tuples for our different images sizes/scales \n",
    "original_shape = img.shape[1:3]\n",
    "successive_shapes = [original_shape]\n",
    "for i in range(1, num_octave):\n",
    "    shape = tuple([int(dim / (octave_scale ** i)) for dim in original_shape])\n",
    "    successive_shapes.append(shape)\n",
    "\n",
    "# Reverse list of shapes, so that they are in increasing order\n",
    "successive_shapes = successive_shapes[::-1]\n",
    "\n",
    "# Resize the Numpy array of the image to our smallest scale\n",
    "original_img = np.copy(img)\n",
    "shrunk_original_img = resize_img(img, successive_shapes[0])\n",
    "\n",
    "for shape in successive_shapes:\n",
    "    print('Processing image shape', shape)\n",
    "    img = resize_img(img, shape)\n",
    "    img = gradient_ascent(img,\n",
    "                          iterations=iterations,\n",
    "                          step=step,\n",
    "                          max_loss=max_loss)\n",
    "\n",
    "    upscaled_shrunk_original_img = resize_img(shrunk_original_img, shape)\n",
    "    same_size_original = resize_img(original_img, shape)\n",
    "    lost_detail = same_size_original - upscaled_shrunk_original_img\n",
    "\n",
    "    img += lost_detail\n",
    "    shrunk_original_img = resize_img(original_img, shape)\n",
    "    save_img(img, fname='./deepdream_outputs/dream_at_scale_' + str(shape) + '.png')\n",
    "    \n",
    "save_img(img, fname='./deepdream_outputs/final_dream.png')\n",
    "print(\"DeepDreaming Complete\")"
   ]
  },
  {
   "cell_type": "code",
   "execution_count": 8,
   "metadata": {},
   "outputs": [
    {
     "data": {
      "image/png": "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